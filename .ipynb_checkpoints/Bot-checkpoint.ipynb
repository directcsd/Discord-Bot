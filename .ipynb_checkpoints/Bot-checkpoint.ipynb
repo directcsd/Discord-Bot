{
 "cells": [
  {
   "cell_type": "code",
   "execution_count": null,
   "metadata": {
    "collapsed": true
   },
   "outputs": [],
   "source": [
    "import tensorflow as tf\n",
    "config = tf.ConfigProto()\n",
    "config.gpu_options.allow_growth = True\n",
    "session = tf.Session(config=config)"
   ]
  },
  {
   "cell_type": "code",
   "execution_count": null,
   "metadata": {
    "collapsed": true
   },
   "outputs": [],
   "source": [
    "from __future__ import print_function\n",
    "from keras.models import Sequential\n",
    "from keras.layers import Dense, Activation, Dropout\n",
    "from keras.layers import LSTM,TimeDistributed,SimpleRNN\n",
    "from keras.utils.data_utils import get_file\n",
    "import numpy as np\n",
    "from time import sleep\n",
    "import random\n",
    "import sys"
   ]
  },
  {
   "cell_type": "code",
   "execution_count": null,
   "metadata": {
    "collapsed": true
   },
   "outputs": [],
   "source": [
    "import discord\n",
    "import asyncio"
   ]
  },
  {
   "cell_type": "code",
   "execution_count": null,
   "metadata": {
    "collapsed": true
   },
   "outputs": [],
   "source": [
    "path = get_file('nietzsche.txt', origin='https://s3.amazonaws.com/text-datasets/nietzsche.txt')\n",
    "text = open(path).read().lower()\n",
    "print('corpus length:', len(text))"
   ]
  },
  {
   "cell_type": "code",
   "execution_count": null,
   "metadata": {
    "collapsed": true
   },
   "outputs": [],
   "source": [
    "chars = sorted(list(set(text)))\n",
    "print('total chars:', len(chars))\n",
    "char_indices = dict((c, i) for i, c in enumerate(chars))\n",
    "indices_char = dict((i, c) for i, c in enumerate(chars))"
   ]
  },
  {
   "cell_type": "code",
   "execution_count": null,
   "metadata": {
    "collapsed": true
   },
   "outputs": [],
   "source": [
    "model = Sequential()\n",
    "#model.add(LSTM(512, return_sequences=True, input_shape=(maxlen, len(chars))))  # original one\n",
    "model.add(LSTM(512, input_shape=(None, len(chars)),return_sequences=True)) #minesh witout specifying the input_length\n",
    "model.add(LSTM(512, return_sequences=True)) #- original\n",
    "model.add(Dropout(0.2))\n",
    "model.add(TimeDistributed(Dense(len(chars))))\n",
    "model.add(Activation('softmax'))\n",
    "\n",
    "model.compile(loss='categorical_crossentropy', optimizer='rmsprop')"
   ]
  },
  {
   "cell_type": "code",
   "execution_count": null,
   "metadata": {
    "collapsed": true
   },
   "outputs": [],
   "source": [
    "model.load_weights(\"Karpathy_LSTM_weights_5.h5\")"
   ]
  },
  {
   "cell_type": "code",
   "execution_count": null,
   "metadata": {
    "collapsed": true
   },
   "outputs": [],
   "source": [
    "class Response():\n",
    "    def __init__(self,message=\"\"):\n",
    "        self.message=message"
   ]
  },
  {
   "cell_type": "code",
   "execution_count": null,
   "metadata": {
    "collapsed": true
   },
   "outputs": [],
   "source": [
    "response=Response()"
   ]
  },
  {
   "cell_type": "code",
   "execution_count": null,
   "metadata": {
    "collapsed": true
   },
   "outputs": [],
   "source": [
    "async def charrnn(seed_string, response):\n",
    "    #x=np.zeros((1, len(seed_string), len(chars)))\n",
    "    for i in range(50):\n",
    "        x=np.zeros((1, len(seed_string), len(chars)))\n",
    "        for t, char in enumerate(seed_string):\n",
    "            x[0, t, char_indices[char]] = 1.\n",
    "        preds = model.predict(x, verbose=0)[0]\n",
    "        #print (np.argmax(preds[7]))\n",
    "        next_index=np.argmax(preds[len(seed_string)-1])\n",
    "        \n",
    "        \n",
    "        #next_index=np.argmax(preds[len(seed_string)-11])\n",
    "        #print (preds.shape)\n",
    "        #print (preds)\n",
    "        #next_index = sample(preds, 1) #diversity is 1\n",
    "        next_char = indices_char[next_index]\n",
    "        seed_string = seed_string + next_char\n",
    "        \n",
    "        #print (seed_string)\n",
    "        #print ('##############')\n",
    "        #if i==40:\n",
    "        #    print ('####')\n",
    "        response.message=response.message+next_char\n",
    "    print(response.message)"
   ]
  },
  {
   "cell_type": "code",
   "execution_count": null,
   "metadata": {
    "collapsed": true
   },
   "outputs": [],
   "source": [
    "client = discord.Client()"
   ]
  },
  {
   "cell_type": "code",
   "execution_count": null,
   "metadata": {
    "collapsed": true
   },
   "outputs": [],
   "source": [
    "@client.event\n",
    "async def on_ready():\n",
    "    print('Connected as:')\n",
    "    print(client.user.name)\n",
    "    print(client.user.id)\n",
    "    print(len(client.servers))\n",
    "    print(len(list(client.get_all_members())))\n",
    "    print('------')\n"
   ]
  },
  {
   "cell_type": "code",
   "execution_count": null,
   "metadata": {
    "collapsed": true
   },
   "outputs": [],
   "source": [
    "@client.event\n",
    "async def on_message(message):\n",
    "    \n",
    "    if message.content.startswith('!ping'):\n",
    "        await client.send_message(message.channel, ':ping_pong: Pong!')\n",
    "    \n",
    "    elif message.content.startswith('!remindme'):\n",
    "        await asyncio.sleep(10)\n",
    "        await client.send_message(message.channel, (message.content[10:]))\n",
    "    \n",
    "    elif message.content.startswith('!count'):\n",
    "        counter = 0\n",
    "        tmp = await client.send_message(message.channel, 'Calculating messages...')\n",
    "        async for log in client.logs_from(message.channel, limit=100):\n",
    "            if log.author == message.author:\n",
    "                counter += 1\n",
    "        await client.edit_message(tmp, 'You have {} messages.'.format(counter))\n",
    "        \n",
    "    elif message.content.startswith('!sleep'):\n",
    "        await asyncio.sleep(5)\n",
    "        await client.send_message(message.channel, 'Done sleeping')\n",
    "    \n",
    "    elif message.content.startswith('!'):\n",
    "        response.message=\"\"\n",
    "        await charrnn((message.content[1:]).lower(), response)\n",
    "        await client.send_message(message.channel, response.message)\n"
   ]
  },
  {
   "cell_type": "code",
   "execution_count": null,
   "metadata": {
    "collapsed": true
   },
   "outputs": [],
   "source": [
    "client.run('TOKEN')"
   ]
  },
  {
   "cell_type": "code",
   "execution_count": null,
   "metadata": {
    "collapsed": true
   },
   "outputs": [],
   "source": []
  }
 ],
 "metadata": {
  "kernelspec": {
   "display_name": "Python 3",
   "language": "python",
   "name": "python3"
  },
  "language_info": {
   "codemirror_mode": {
    "name": "ipython",
    "version": 3
   },
   "file_extension": ".py",
   "mimetype": "text/x-python",
   "name": "python",
   "nbconvert_exporter": "python",
   "pygments_lexer": "ipython3",
   "version": "3.6.3"
  }
 },
 "nbformat": 4,
 "nbformat_minor": 2
}
