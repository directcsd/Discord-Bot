{
 "cells": [
  {
   "cell_type": "code",
   "execution_count": 1,
   "metadata": {
    "collapsed": true
   },
   "outputs": [],
   "source": [
    "import discord\n",
    "import asyncio"
   ]
  },
  {
   "cell_type": "code",
   "execution_count": 2,
   "metadata": {
    "collapsed": true
   },
   "outputs": [],
   "source": [
    "client = discord.Client()"
   ]
  },
  {
   "cell_type": "code",
   "execution_count": 3,
   "metadata": {
    "collapsed": true
   },
   "outputs": [],
   "source": [
    "@client.event\n",
    "async def on_ready():\n",
    "    print('Conected as:')\n",
    "    print(client.user.name)\n",
    "    print(client.user.id)\n",
    "    print(len(client.servers))\n",
    "    print(len(list(client.get_all_members())))\n",
    "    print('------')\n"
   ]
  },
  {
   "cell_type": "code",
   "execution_count": null,
   "metadata": {
    "collapsed": true
   },
   "outputs": [],
   "source": [
    "@client.event\n",
    "async def on_message(message):\n",
    "    \n",
    "    if message.content.startswith('!ping'):\n",
    "        await client.send_message(message.channel, ':ping_pong: Pong!')\n",
    "    \n",
    "    elif message.content.startswith('!remind'):\n",
    "        await asyncio.sleep(10)\n",
    "        await client.send_message(message.channel, (message.content[8:]))\n",
    "    \n",
    "    elif message.content.startswith('!kiss'):\n",
    "        await client.send_message(message.channel, ':kiss:')\n",
    "    \n",
    "    elif message.content.startswith('!count'):\n",
    "        counter = 0\n",
    "        tmp = await client.send_message(message.channel, 'Calculating messages...')\n",
    "        async for log in client.logs_from(message.channel, limit=100):\n",
    "            if log.author == message.author:\n",
    "                counter += 1\n",
    "        await client.edit_message(tmp, 'You have {} messages.'.format(counter))\n",
    "        \n",
    "    elif message.content.startswith('!sleep'):\n",
    "        await asyncio.sleep(5)\n",
    "        await client.send_message(message.channel, 'Done sleeping')\n"
   ]
  },
  {
   "cell_type": "code",
   "execution_count": null,
   "metadata": {},
   "outputs": [
    {
     "name": "stdout",
     "output_type": "stream",
     "text": [
      "Conectado como:\n",
      "Daredevil\n",
      "378160412383903747\n",
      "1\n",
      "24\n",
      "------\n"
     ]
    }
   ],
   "source": [
    "client.run('TOKEN')"
   ]
  },
  {
   "cell_type": "code",
   "execution_count": null,
   "metadata": {
    "collapsed": true
   },
   "outputs": [],
   "source": []
  }
 ],
 "metadata": {
  "kernelspec": {
   "display_name": "Python 3",
   "language": "python",
   "name": "python3"
  },
  "language_info": {
   "codemirror_mode": {
    "name": "ipython",
    "version": 3
   },
   "file_extension": ".py",
   "mimetype": "text/x-python",
   "name": "python",
   "nbconvert_exporter": "python",
   "pygments_lexer": "ipython3",
   "version": "3.6.3"
  }
 },
 "nbformat": 4,
 "nbformat_minor": 2
}
