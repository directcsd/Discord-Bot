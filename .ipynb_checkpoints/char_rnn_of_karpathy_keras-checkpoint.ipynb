{
 "cells": [
  {
   "cell_type": "code",
   "execution_count": 1,
   "metadata": {},
   "outputs": [
    {
     "name": "stderr",
     "output_type": "stream",
     "text": [
      "Using TensorFlow backend.\n"
     ]
    }
   ],
   "source": [
    "####\n",
    "\n",
    "#minesh.mathew@gmail.com\n",
    "#modified version of text generation example in keras; trained in a many-to-many fashion using a time distributed dense layer\n",
    "\n",
    "####\n",
    "from __future__ import print_function\n",
    "from keras.models import Sequential\n",
    "from keras.layers import Dense, Activation, Dropout\n",
    "from keras.layers import LSTM,TimeDistributed,SimpleRNN\n",
    "from keras.utils.data_utils import get_file\n",
    "import numpy as np\n",
    "from time import sleep\n",
    "import random\n",
    "import sys"
   ]
  },
  {
   "cell_type": "code",
   "execution_count": 2,
   "metadata": {},
   "outputs": [
    {
     "name": "stdout",
     "output_type": "stream",
     "text": [
      "corpus length: 1630561\n"
     ]
    }
   ],
   "source": [
    "path = get_file('nietzsche.txt', origin='https://s3.amazonaws.com/text-datasets/nietzsche.txt')\n",
    "text = open(path, encoding='utf8').read().lower()\n",
    "print('corpus length:', len(text))"
   ]
  },
  {
   "cell_type": "code",
   "execution_count": 3,
   "metadata": {},
   "outputs": [
    {
     "name": "stdout",
     "output_type": "stream",
     "text": [
      "total chars: 392\n"
     ]
    }
   ],
   "source": [
    "chars = sorted(list(set(text)))\n",
    "print('total chars:', len(chars))\n",
    "char_indices = dict((c, i) for i, c in enumerate(chars))\n",
    "indices_char = dict((i, c) for i, c in enumerate(chars))"
   ]
  },
  {
   "cell_type": "code",
   "execution_count": 4,
   "metadata": {},
   "outputs": [
    {
     "name": "stdout",
     "output_type": "stream",
     "text": [
      "nb sequences: 543508\n"
     ]
    }
   ],
   "source": [
    "# split the corpus into sequences of length=maxlen\n",
    "#input is a sequence of 40 chars and target is also a sequence of 40 chars shifted by one position\n",
    "#for eg: if you maxlen=3 and the text corpus is abcdefghi, your input ---> target pairs will be\n",
    "# [a,b,c] --> [b,c,d], [b,c,d]--->[c,d,e]....and so on\n",
    "maxlen = 40\n",
    "step = 3\n",
    "sentences = []\n",
    "next_chars = []\n",
    "for i in range(0, len(text) - maxlen+1, step):\n",
    "    sentences.append(text[i: i + maxlen])\n",
    "    next_chars.append(text[i+1:i+1 + maxlen])\n",
    "    #if i<10 :\n",
    "       # print (text[i: i + maxlen])\n",
    "        #print(text[i+1:i +1+ maxlen])\n",
    "print('nb sequences:', len(sentences))"
   ]
  },
  {
   "cell_type": "code",
   "execution_count": 5,
   "metadata": {},
   "outputs": [
    {
     "name": "stdout",
     "output_type": "stream",
     "text": [
      "Vectorization...\n",
      "vetorization completed\n"
     ]
    }
   ],
   "source": [
    "print('Vectorization...')\n",
    "X = np.zeros((len(sentences), maxlen, len(chars)), dtype=np.bool)\n",
    "y = np.zeros((len(sentences), maxlen, len(chars)), dtype=np.bool) # y is also a sequence , or  a seq of 1 hot vectors\n",
    "for i, sentence in enumerate(sentences):\n",
    "    for t, char in enumerate(sentence):\n",
    "        X[i, t, char_indices[char]] = 1\n",
    "\n",
    "for i, sentence in enumerate(next_chars):\n",
    "    for t, char in enumerate(sentence):\n",
    "        y[i, t, char_indices[char]] = 1\n",
    "    \n",
    "print ('vetorization completed')"
   ]
  },
  {
   "cell_type": "code",
   "execution_count": 6,
   "metadata": {},
   "outputs": [
    {
     "name": "stdout",
     "output_type": "stream",
     "text": [
      "Build model...\n"
     ]
    },
    {
     "name": "stderr",
     "output_type": "stream",
     "text": [
      "C:\\ProgramData\\Anaconda3\\envs\\tensorflow\\lib\\site-packages\\ipykernel_launcher.py:5: UserWarning: The `input_dim` and `input_length` arguments in recurrent layers are deprecated. Use `input_shape` instead.\n",
      "  \"\"\"\n",
      "C:\\ProgramData\\Anaconda3\\envs\\tensorflow\\lib\\site-packages\\ipykernel_launcher.py:5: UserWarning: Update your `LSTM` call to the Keras 2 API: `LSTM(512, return_sequences=True, input_shape=(None, 392...)`\n",
      "  \"\"\"\n"
     ]
    },
    {
     "name": "stdout",
     "output_type": "stream",
     "text": [
      "model is made\n"
     ]
    }
   ],
   "source": [
    "# build the model: 2 stacked LSTM\n",
    "print('Build model...')\n",
    "model = Sequential()\n",
    "#model.add(LSTM(512, return_sequences=True, input_shape=(maxlen, len(chars))))  # original one\n",
    "model.add(LSTM(512, input_shape=(None, (len(chars)),return_sequences=True)) #minesh witout specifying the input_length\n",
    "model.add(LSTM(512, return_sequences=True)) #- original\n",
    "model.add(Dropout(0.2))\n",
    "model.add(TimeDistributed(Dense(len(chars))))\n",
    "model.add(Activation('softmax'))\n",
    "\n",
    "model.compile(loss='categorical_crossentropy', optimizer='rmsprop')\n",
    "\n",
    "print ('model is made')\n",
    "\n",
    "# train the model, output generated text after each iteration"
   ]
  },
  {
   "cell_type": "code",
   "execution_count": 7,
   "metadata": {},
   "outputs": [
    {
     "name": "stdout",
     "output_type": "stream",
     "text": [
      "_________________________________________________________________\n",
      "Layer (type)                 Output Shape              Param #   \n",
      "=================================================================\n",
      "lstm_1 (LSTM)                (None, None, 512)         1853440   \n",
      "_________________________________________________________________\n",
      "lstm_2 (LSTM)                (None, None, 512)         2099200   \n",
      "_________________________________________________________________\n",
      "dropout_1 (Dropout)          (None, None, 512)         0         \n",
      "_________________________________________________________________\n",
      "time_distributed_1 (TimeDist (None, None, 392)         201096    \n",
      "_________________________________________________________________\n",
      "activation_1 (Activation)    (None, None, 392)         0         \n",
      "=================================================================\n",
      "Total params: 4,153,736\n",
      "Trainable params: 4,153,736\n",
      "Non-trainable params: 0\n",
      "_________________________________________________________________\n",
      "None\n"
     ]
    }
   ],
   "source": [
    "print (model.summary())"
   ]
  },
  {
   "cell_type": "code",
   "execution_count": 8,
   "metadata": {},
   "outputs": [
    {
     "name": "stdout",
     "output_type": "stream",
     "text": [
      "\n",
      "--------------------------------------------------\n",
      "Iteration 1\n"
     ]
    },
    {
     "name": "stderr",
     "output_type": "stream",
     "text": [
      "C:\\ProgramData\\Anaconda3\\envs\\tensorflow\\lib\\site-packages\\keras-2.0.8-py3.6.egg\\keras\\models.py:852: UserWarning: The `nb_epoch` argument in `fit` has been renamed `epochs`.\n",
      "  warnings.warn('The `nb_epoch` argument in `fit` '\n"
     ]
    },
    {
     "name": "stdout",
     "output_type": "stream",
     "text": [
      "loss is\n",
      "1.22982526662\n",
      "<keras.callbacks.History object at 0x000001D858708278>\n",
      "\n",
      "\n",
      "--------------------------------------------------\n",
      "Iteration 2\n",
      "loss is\n",
      "0.913415355451\n",
      "<keras.callbacks.History object at 0x000001D858708358>\n",
      "\n",
      "\n",
      "--------------------------------------------------\n",
      "Iteration 3\n",
      "loss is\n",
      "0.805110072918\n",
      "<keras.callbacks.History object at 0x000001D858708278>\n",
      "\n",
      "\n",
      "--------------------------------------------------\n",
      "Iteration 4\n",
      "loss is\n",
      "0.736316022056\n",
      "<keras.callbacks.History object at 0x000001D858708358>\n",
      "\n",
      "\n",
      "--------------------------------------------------\n",
      "Iteration 5\n",
      "loss is\n",
      "0.692502684787\n",
      "<keras.callbacks.History object at 0x000001D858708278>\n",
      "\n"
     ]
    }
   ],
   "source": [
    "for iteration in range(1, 6):\n",
    "    print()\n",
    "    print('-' * 50)\n",
    "    print('Iteration', iteration)\n",
    "    history=model.fit(X, y, batch_size=128, epochs=1,verbose=0)\n",
    "    sleep(0.1) # https://github.com/fchollet/keras/issues/2110\n",
    "    \n",
    "    # saving models at the following iterations -- uncomment it if you want tos save weights and load it later\n",
    "    if iteration==1 or iteration==3 or iteration==5 or iteration==10 or iteration==20 or iteration==30 or iteration==50 or iteration==60 :\n",
    "        model.save_weights('Karpathy_LSTM_weights_'+str(iteration)+'.h5', overwrite=True)\n",
    "   #start_index = random.randint(0, len(text) - maxlen - 1)\n",
    "\n",
    "    #sys.stdout.flush()\n",
    "    print ('loss is')\n",
    "    print (history.history['loss'][0])\n",
    "    print (history)\n",
    "    print()    \n",
    "\n",
    "    "
   ]
  },
  {
   "cell_type": "markdown",
   "metadata": {},
   "source": [
    "#### testing\n",
    "now you use the trained model to generat text.\n",
    "the  output shown in this notebook is for a model which is trained only for 1 iteration"
   ]
  },
  {
   "cell_type": "code",
   "execution_count": 9,
   "metadata": {},
   "outputs": [
    {
     "name": "stdout",
     "output_type": "stream",
     "text": [
      "seed string --> corp\n",
      "The generated text is\n",
      "corp para el de la foto poser en resultante\n",
      "10/16/17, 21:54:19: ‪+34 637 89 38 83‬: estoy en el titan y elecciones\n",
      "6/20/17, 14:48:01: ‪+34 616 49 57 51‬: eso se come es una estadición en castellano, solo en el cuerpo y todo eso me sale un tirado del grupo\n",
      "6/22/17, 16:38:36: ‪+34 630 69 10 51‬: estoy en el tiempo de aceptor"
     ]
    }
   ],
   "source": [
    "seed_string=\"corp\"\n",
    "print (\"seed string -->\", seed_string)\n",
    "print ('The generated text is')\n",
    "sys.stdout.write(seed_string),\n",
    "#x=np.zeros((1, len(seed_string), len(chars)))\n",
    "for i in range(320):\n",
    "    x=np.zeros((1, len(seed_string), len(chars)))\n",
    "    for t, char in enumerate(seed_string):\n",
    "        x[0, t, char_indices[char]] = 1.\n",
    "    preds = model.predict(x, verbose=0)[0]\n",
    "    #print (np.argmax(preds[7]))\n",
    "    next_index=np.argmax(preds[len(seed_string)-1])\n",
    "    \n",
    "    \n",
    "    #next_index=np.argmax(preds[len(seed_string)-11])\n",
    "    #print (preds.shape)\n",
    "    #print (preds)\n",
    "    #next_index = sample(preds, 1) #diversity is 1\n",
    "    next_char = indices_char[next_index]\n",
    "    seed_string = seed_string + next_char\n",
    "    \n",
    "    #print (seed_string)\n",
    "    #print ('##############')\n",
    "    #if i==40:\n",
    "    #    print ('####')\n",
    "    sys.stdout.write(next_char)\n",
    "\n",
    "sys.stdout.flush()    \n",
    "\n"
   ]
  },
  {
   "cell_type": "code",
   "execution_count": null,
   "metadata": {
    "collapsed": true
   },
   "outputs": [],
   "source": []
  }
 ],
 "metadata": {
  "kernelspec": {
   "display_name": "Python 3",
   "language": "python",
   "name": "python3"
  },
  "language_info": {
   "codemirror_mode": {
    "name": "ipython",
    "version": 3
   },
   "file_extension": ".py",
   "mimetype": "text/x-python",
   "name": "python",
   "nbconvert_exporter": "python",
   "pygments_lexer": "ipython3",
   "version": "3.6.3"
  }
 },
 "nbformat": 4,
 "nbformat_minor": 1
}
