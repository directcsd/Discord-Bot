{
 "cells": [
  {
   "cell_type": "code",
   "execution_count": 1,
   "metadata": {},
   "outputs": [],
   "source": [
    "import re\n",
    "import time\n",
    "import pandas as pd\n",
    "import dateutil\n",
    "import matplotlib.pyplot as plt"
   ]
  },
  {
   "cell_type": "code",
   "execution_count": 2,
   "metadata": {},
   "outputs": [],
   "source": [
    "class wp_chat():\n",
    "    \n",
    "    def __init__ (self, filename):\n",
    "        self.filename = filename\n",
    "        \n",
    "    def open_file(self):\n",
    "        x = open(self.filename,'r', encoding='utf8')\n",
    "        y = x.read()\n",
    "        content = y.splitlines()\n",
    "        return content\n",
    "        \n",
    "    def clean_unicode(self,str):\n",
    "        patterns = {\n",
    "            \"uni1\":r'\\\\u20[0-9][a-z]',\n",
    "            \"uni2\":r'\\\\xa0',\n",
    "            \"uni3\":r'\\\\ufeff'\n",
    "        }\n",
    "        raw_str = \"%r\"%str\n",
    "        for key in patterns:\n",
    "            raw_str = re.sub(patterns[key],\"\",raw_str)\n",
    "        return raw_str\n",
    "        \n",
    "    def ismessage(self,str):\n",
    "        patterns = {\n",
    "            \"del1\":r'\\] ?',\n",
    "            \"del2\":r'( cre| add| cha| rem| lef| del|: )?'\n",
    "        }\n",
    "        result = re.split(\"( cre| add| cha| rem| lef| del|: )?\", str, 1)\n",
    "        message = result[2]\n",
    "        str_temp = result[0]\n",
    "        result = re.split(\"\\] ?\", str_temp, 1)\n",
    "        date = result[0]\n",
    "        name = result[1]\n",
    "        return [name, message, date]\n",
    "            \n",
    "    def process(self,content):\n",
    "        j=0\n",
    "        df = pd.DataFrame(index = range(1, len(content)+1), columns=[ 'Name', 'Message', 'date_string'])\n",
    "        for i in content:\n",
    "            results = self.ismessage(i)\n",
    "            df.iloc[j]['Name']=results[0]\n",
    "            df.iloc[j]['Message']=results[1]\n",
    "            df.iloc[j]['date_string']=results[2]\n",
    "            #print (results[0])\n",
    "            \n",
    "            j=j+1    \n",
    "        return df\n",
    "     \n",
    "    def cleaning(self,content):\n",
    "        clean_content=[]\n",
    "        for i in content:\n",
    "            clean_content.append(self.clean_unicode(i))\n",
    "        return clean_content\n",
    "            "
   ]
  },
  {
   "cell_type": "code",
   "execution_count": 3,
   "metadata": {},
   "outputs": [],
   "source": [
    "chat=wp_chat(\"corpus spanish whatsapp.txt\")"
   ]
  },
  {
   "cell_type": "code",
   "execution_count": 4,
   "metadata": {},
   "outputs": [],
   "source": [
    "content=chat.open_file()"
   ]
  },
  {
   "cell_type": "code",
   "execution_count": 5,
   "metadata": {},
   "outputs": [],
   "source": [
    "cleaned=chat.cleaning(content)"
   ]
  },
  {
   "cell_type": "code",
   "execution_count": 6,
   "metadata": {},
   "outputs": [
    {
     "name": "stderr",
     "output_type": "stream",
     "text": [
      "/usr/local/lib/python3.6/re.py:212: FutureWarning: split() requires a non-empty pattern match.\n",
      "  return _compile(pattern, flags).split(string, maxsplit)\n"
     ]
    }
   ],
   "source": [
    "df=chat.process(cleaned)"
   ]
  },
  {
   "cell_type": "code",
   "execution_count": 7,
   "metadata": {},
   "outputs": [],
   "source": [
    "df['Message']=df['Message'].str.lower()"
   ]
  },
  {
   "cell_type": "code",
   "execution_count": 8,
   "metadata": {},
   "outputs": [],
   "source": [
    "df=df[df.Message.str.contains(\" omitted>\") == False]"
   ]
  },
  {
   "cell_type": "code",
   "execution_count": 9,
   "metadata": {},
   "outputs": [],
   "source": [
    "df.to_csv(\"processed corpus.txt\", index=False, header=False, columns=[\"Message\"])"
   ]
  },
  {
   "cell_type": "code",
   "execution_count": null,
   "metadata": {},
   "outputs": [],
   "source": []
  }
 ],
 "metadata": {
  "kernelspec": {
   "display_name": "Python 3",
   "language": "python",
   "name": "python3"
  },
  "language_info": {
   "codemirror_mode": {
    "name": "ipython",
    "version": 3
   },
   "file_extension": ".py",
   "mimetype": "text/x-python",
   "name": "python",
   "nbconvert_exporter": "python",
   "pygments_lexer": "ipython3",
   "version": "3.6.4"
  }
 },
 "nbformat": 4,
 "nbformat_minor": 2
}
