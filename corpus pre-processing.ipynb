{
 "cells": [
  {
   "cell_type": "code",
   "execution_count": 1,
   "metadata": {
    "collapsed": true
   },
   "outputs": [],
   "source": [
    "import re\n",
    "import time\n",
    "import pandas as pd\n",
    "import dateutil\n",
    "import matplotlib.pyplot as plt"
   ]
  },
  {
   "cell_type": "code",
   "execution_count": 2,
   "metadata": {
    "collapsed": true
   },
   "outputs": [],
   "source": [
    "class wp_chat():\n",
    "    \n",
    "    def __init__ (self, filename):\n",
    "        self.filename = filename\n",
    "        \n",
    "    def open_file(self):\n",
    "        x = open(self.filename,'r', encoding='utf8')\n",
    "        y = x.read()\n",
    "        content = y.splitlines()\n",
    "        return content\n",
    "        \n",
    "    def clean_unicode(self,str):\n",
    "        patterns = {\n",
    "            \"uni1\":r'\\\\u20[0-9][a-z]',\n",
    "            \"uni2\":r'\\\\xa0',\n",
    "            \"uni3\":r'\\\\ufeff'\n",
    "        }\n",
    "        raw_str = \"%r\"%str\n",
    "        for key in patterns:\n",
    "            raw_str = re.sub(patterns[key],\"\",raw_str)\n",
    "        return raw_str\n",
    "        \n",
    "    def ismessage(self,str):\n",
    "        patterns = {\n",
    "            \"hor1\":r'w{3}s{1}[0-9]{1,2},s{1}d{4},s{1}d{2}:d{2}', \n",
    "            \"hor2\":r'w{3}s{1}[0-9]{1,2},s{1}d{2}:d{2}', \n",
    "            \"imp2\":r'd{1,2}sw{3}sd{2}:d{2}', \n",
    "            \"imp1\":r'd{1,2}sw{3}sd{4}sd{2}:d{2}',\n",
    "            \"datetime\":r'\\d+\\/\\d+\\/\\d+\\,\\s(\\d\\d:){3}'\n",
    "        }\n",
    "        for key in patterns:\n",
    "            result = re.search(patterns[key], str)\n",
    "            if result and str.count(':') >=2:\n",
    "                name_start = str.find(\":\")+7\n",
    "                first_colon = str.find(\":\")\n",
    "                name_end = str.find(\":\", first_colon+7)\n",
    "                name=str[name_start:name_end]\n",
    "                message=str[name_end+1:]\n",
    "                return [name, message, result.group()]\n",
    "        return [\"\",\"\",str]\n",
    "    \n",
    "    def process(self,content):\n",
    "        j = 1\n",
    "        df = pd.DataFrame(index = range(1, len(content)+1), columns=[ 'Name', 'Message', 'date_string'])\n",
    "        for i in content:\n",
    "            results = self.ismessage(i)\n",
    "            if results[0] != \"\":\n",
    "                df.ix[j]=results\n",
    "            else:\n",
    "                df.ix[j]['Name']=df.ix[j-1]['Name']\n",
    "                df.ix[j]['date_string']=df.ix[j-1]['date_string']\n",
    "                df.ix[j]['Message']=results[2]\n",
    "            j = j+1\n",
    "        #df['Time'] = df['date_string'].map(lambda x: dateutil.parser.parse(x))\n",
    "        #df['Day'] = df['date_string'].map(lambda x: dateutil.parser.parse(x).strftime(\"%a\"))\n",
    "        #df['Date'] = df['date_string'].map(lambda x:dateutil.parser.parse(x).strftime(\"%x\"))\n",
    "        #df['Hour'] = df['date_string'].map(lambda x:dateutil.parser.parse(x).strftime(\"%H\"))\n",
    "        return df\n",
    "     \n",
    "    def cleaning(self,content):\n",
    "        clean_content=[]\n",
    "        for i in content:\n",
    "            clean_content.append(self.clean_unicode(i))\n",
    "        return clean_content\n",
    "            "
   ]
  },
  {
   "cell_type": "code",
   "execution_count": 3,
   "metadata": {
    "collapsed": true
   },
   "outputs": [],
   "source": [
    "chat=wp_chat(\"corpus spanish whatsapp.txt\")"
   ]
  },
  {
   "cell_type": "code",
   "execution_count": 4,
   "metadata": {
    "collapsed": true
   },
   "outputs": [],
   "source": [
    "content=chat.open_file()"
   ]
  },
  {
   "cell_type": "code",
   "execution_count": 5,
   "metadata": {
    "collapsed": true
   },
   "outputs": [],
   "source": [
    "cleaned=chat.cleaning(content)"
   ]
  },
  {
   "cell_type": "code",
   "execution_count": 6,
   "metadata": {},
   "outputs": [
    {
     "name": "stderr",
     "output_type": "stream",
     "text": [
      "C:\\ProgramData\\Anaconda3\\envs\\tensorflow\\lib\\site-packages\\ipykernel_launcher.py:48: DeprecationWarning: \n",
      ".ix is deprecated. Please use\n",
      ".loc for label based indexing or\n",
      ".iloc for positional indexing\n",
      "\n",
      "See the documentation here:\n",
      "http://pandas.pydata.org/pandas-docs/stable/indexing.html#ix-indexer-is-deprecated\n"
     ]
    }
   ],
   "source": [
    "df=chat.process(cleaned)"
   ]
  },
  {
   "cell_type": "code",
   "execution_count": 7,
   "metadata": {
    "collapsed": true
   },
   "outputs": [],
   "source": [
    "df['Message']=df['Message'].str.lower()"
   ]
  },
  {
   "cell_type": "code",
   "execution_count": 8,
   "metadata": {
    "collapsed": true
   },
   "outputs": [],
   "source": [
    "df=df[df.Message.str.contains(\" omitted>\") == False]"
   ]
  },
  {
   "cell_type": "code",
   "execution_count": 9,
   "metadata": {
    "collapsed": true
   },
   "outputs": [],
   "source": [
    "df.to_csv(\"processed corpus.txt\", index=False, header=False, columns=[\"Message\"])"
   ]
  },
  {
   "cell_type": "code",
   "execution_count": null,
   "metadata": {
    "collapsed": true
   },
   "outputs": [],
   "source": []
  }
 ],
 "metadata": {
  "kernelspec": {
   "display_name": "Python 3",
   "language": "python",
   "name": "python3"
  },
  "language_info": {
   "codemirror_mode": {
    "name": "ipython",
    "version": 3
   },
   "file_extension": ".py",
   "mimetype": "text/x-python",
   "name": "python",
   "nbconvert_exporter": "python",
   "pygments_lexer": "ipython3",
   "version": "3.6.3"
  }
 },
 "nbformat": 4,
 "nbformat_minor": 2
}
